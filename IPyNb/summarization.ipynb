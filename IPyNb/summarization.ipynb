{
 "cells": [
  {
   "cell_type": "code",
   "execution_count": 100,
   "metadata": {},
   "outputs": [],
   "source": [
    "import spacy\n",
    "import re\n",
    "from spacy.lang.en.stop_words import STOP_WORDS\n",
    "from string import punctuation\n",
    "from heapq import nlargest\n",
    "punctuation=punctuation+'\\n'+'\\n\\n'+'.\\n\\n'+'. \\n\\n'\n",
    "stopwords=list(STOP_WORDS)\n",
    "nlp=spacy.load('en_core_web_sm')"
   ]
  },
  {
   "cell_type": "code",
   "execution_count": 101,
   "metadata": {},
   "outputs": [],
   "source": [
    "text=\"\"\"\"\"\""
   ]
  },
  {
   "cell_type": "code",
   "execution_count": 102,
   "metadata": {},
   "outputs": [],
   "source": [
    "doc=nlp(text)\n",
    "tokens=[token.text for token in doc]\n",
    "sent_tokens=[sent for sent in doc.sents]"
   ]
  },
  {
   "cell_type": "code",
   "execution_count": 103,
   "metadata": {},
   "outputs": [],
   "source": [
    "frq={}\n",
    "for word in doc:\n",
    "    if word.text.lower() not in stopwords:\n",
    "        if word.text.lower() not in punctuation:\n",
    "            if word.text not in frq.keys():\n",
    "                frq[word.text]=1\n",
    "            else:\n",
    "                frq[word.text]+=1\n",
    "\n",
    "maxfrq=max(frq.values())    \n",
    "for word in frq.keys():\n",
    "    frq[word]=frq[word]/maxfrq\n"
   ]
  },
  {
   "cell_type": "code",
   "execution_count": 104,
   "metadata": {},
   "outputs": [],
   "source": [
    "sentscore={}\n",
    "for sent in sent_tokens:\n",
    "    for word in sent:\n",
    "        if word.text.lower() in frq.keys():\n",
    "            if sent not in sentscore.keys():\n",
    "                sentscore[sent]=frq[word.text.lower()]\n",
    "            else:\n",
    "                sentscore[sent]+=frq[word.text.lower()]"
   ]
  },
  {
   "cell_type": "code",
   "execution_count": 110,
   "metadata": {},
   "outputs": [],
   "source": [
    "sumlen=int(len(sent_tokens)*0.1)"
   ]
  },
  {
   "cell_type": "code",
   "execution_count": 111,
   "metadata": {},
   "outputs": [],
   "source": [
    "summary=nlargest(sumlen,sentscore,key=sentscore.get)\n",
    "summary=' '.join([word.text for word in summary])\n",
    "summary=re.sub('\\n', '', summary)"
   ]
  },
  {
   "cell_type": "code",
   "execution_count": 112,
   "metadata": {},
   "outputs": [
    {
     "data": {
      "text/plain": [
       "'The three major types of pollution are air pollution, water pollution, and land pollution.  Chemical pollutants in trash can also pollute the water, making it toxic for fish and people who use the river as a source of drinking water. So while trash incinerators can help with the problem of land pollution, they sometimes add to the problem of air pollution. People and businesses that illegally dump pollutants into the land, water, and air can be fined for millions of dollars. Sulfuric acid is also toxic to people, making rivers polluted by AMD dangerous sources of water for drinking and hygiene.  This pollution makes the river dangerous to use as a source of water for drinking or hygiene. Now, coal-burning power plants in Texas and the neighboring state of Chihuahua, Mexico have spewed so much pollution into the air that visitors to Big Bend can sometimes see only 50 kilometers (30 miles). Air and water currents carry pollution. This law limited what pollutants could be released into water and set standards for how clean water should be. People and governments can respond quickly and effectively to reduce air pollution. Oil spills are another source of water pollution. This air pollution also killed thousands of cattle and as many as 1,700 people. Although urban areas are usually more polluted than the countryside, pollution can spread to remote places where no people live. Sewage that has not been properly treated is a common source of water pollution. Some people who drink polluted water are exposed to hazardous chemicals that may make them sick years later. Another type of water pollution is simple garbage. Pollutants damage the quality of air, water, and land. A major source of water pollution is fertilizer used in agriculture. All living things—from one-celled microbes to blue whales—depend on Earth’s supply of air and water. They are associated with “dead zones” in the world’s lakes and rivers, places where little life exists below surface water. These chemicals react with sunlight to produce smog, a thick fog or haze of air pollution. Human activity also contributes to water pollution. There are some natural sources of water pollution. Greenhouse gases are another source of air pollution. Around the world, people and governments are making efforts to combat pollution. are a dangerous form of air pollution that governments worked to reduce in the 1980s and 1990s. Natural disasters can also cause air pollution to increase quickly. Mining and drilling can also contribute to water pollution.'"
      ]
     },
     "execution_count": 112,
     "metadata": {},
     "output_type": "execute_result"
    }
   ],
   "source": [
    "summary"
   ]
  },
  {
   "cell_type": "code",
   "execution_count": null,
   "metadata": {},
   "outputs": [],
   "source": []
  }
 ],
 "metadata": {
  "kernelspec": {
   "display_name": "Python 3",
   "language": "python",
   "name": "python3"
  },
  "language_info": {
   "codemirror_mode": {
    "name": "ipython",
    "version": 3
   },
   "file_extension": ".py",
   "mimetype": "text/x-python",
   "name": "python",
   "nbconvert_exporter": "python",
   "pygments_lexer": "ipython3",
   "version": "3.7.6"
  }
 },
 "nbformat": 4,
 "nbformat_minor": 4
}
